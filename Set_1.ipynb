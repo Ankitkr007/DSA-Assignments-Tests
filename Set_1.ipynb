{
  "nbformat": 4,
  "nbformat_minor": 0,
  "metadata": {
    "colab": {
      "provenance": []
    },
    "kernelspec": {
      "name": "python3",
      "display_name": "Python 3"
    },
    "language_info": {
      "name": "python"
    }
  },
  "cells": [
    {
      "cell_type": "markdown",
      "source": [
        "#3 SUM Problem\n",
        "Given an integer array nums, return all the triplets [nums[i], nums[j],\n",
        "nums[k]] such that i != j, i != k, and j != k, and nums[i] + nums[j] + nums[k] ==\n",
        "0.\n",
        "Notice that the solution set must not contain duplicate triplets.\n",
        "Example:\n",
        "Input: nums = [-1,0,1,2,-1,-4]\n",
        "Output: [[-1,-1,2],[-1,0,1]]\n",
        "Explanation:\n",
        "nums[0] + nums[1] + nums[2] = (-1) + 0 + 1 = 0.\n",
        "nums[1] + nums[2] + nums[4] = 0 + 1 + (-1) = 0.\n",
        "nums[0] + nums[3] + nums[4] = (-1) + 2 + (-1) = 0.\n",
        "The distinct triplets are [-1,0,1] and [-1,-1,2].\n",
        "Notice that the order of the output and the order of the triplets does not\n",
        "matter."
      ],
      "metadata": {
        "id": "nsLAyIMTaatB"
      }
    },
    {
      "cell_type": "code",
      "source": [
        "#1. Sort the array\n",
        "#2. If current value>0, break from the loop\n",
        "#3. If current value is same as one before, skip it\n",
        "#4. Call 2 sum for current position i\n",
        "#     i. set low_pointer=i+1  and high pointer=last index\n",
        "#     ii. while low<high: \n",
        "#        - if sum of num(low)+sum of num(high) <num(i)\n",
        "#             increment the lower index\n",
        "#        - if ....>0,decrement high\n",
        "#        - if ..... ==0 , add triplet num[i],num[high],num[low]  to answer and then update the pointers by incrementing \"low pointers\" and decrementing \"high pointers\"\n",
        "\n",
        "input=[-1,0,1,2,-1,-4]\n"
      ],
      "metadata": {
        "id": "IgbkI5ezamlf"
      },
      "execution_count": 2,
      "outputs": []
    },
    {
      "cell_type": "markdown",
      "source": [
        "#2 sum problem"
      ],
      "metadata": {
        "id": "iQAhfeBcbEaU"
      }
    },
    {
      "cell_type": "code",
      "source": [
        "input=[-5,-4,2,3,9]\n",
        "#Find the sum of 2 arrays which give 5\n",
        "#--> we will use 2 -pointer approach : This approach is followed only when we have sorted array\n",
        "\n"
      ],
      "metadata": {
        "id": "-rKFDEBvbGv5"
      },
      "execution_count": null,
      "outputs": []
    },
    {
      "cell_type": "markdown",
      "source": [
        "#Question 5 ---Heap\n",
        "\n",
        "Given an integer array nums and an integer k, return the kth largest\n",
        "element in the array. Note that it is the kth largest element in the sorted order,\n",
        "not the kth distinct element.\n",
        "Example 1:\n",
        "Input: nums = [3,2,1,5,6,4], k = 2\n",
        "Output: 5\n",
        "\n",
        "</aside>"
      ],
      "metadata": {
        "id": "xggg-7w4jEI8"
      }
    },
    {
      "cell_type": "code",
      "source": [
        "nums=[3,2,1,5,6,4]\n",
        "k=2"
      ],
      "metadata": {
        "id": "Ak40A56ijE5z"
      },
      "execution_count": 3,
      "outputs": []
    },
    {
      "cell_type": "code",
      "source": [
        "def findKthLargest(nums, k):\n",
        "    nums.sort(reverse=True)  # Sort the array in descending order\n",
        "    return nums[k-1] "
      ],
      "metadata": {
        "id": "aneeXbJbjl7e"
      },
      "execution_count": 8,
      "outputs": []
    },
    {
      "cell_type": "code",
      "source": [
        "findKthLargest(nums,k)"
      ],
      "metadata": {
        "colab": {
          "base_uri": "https://localhost:8080/"
        },
        "id": "w6m_bwK5kG41",
        "outputId": "5b8bf4a0-267a-4e28-f81a-bc8f0d5e6e8a"
      },
      "execution_count": 9,
      "outputs": [
        {
          "output_type": "execute_result",
          "data": {
            "text/plain": [
              "5"
            ]
          },
          "metadata": {},
          "execution_count": 9
        }
      ]
    },
    {
      "cell_type": "code",
      "source": [],
      "metadata": {
        "id": "z6hcSqRfkH4e"
      },
      "execution_count": null,
      "outputs": []
    },
    {
      "cell_type": "code",
      "source": [
        "#Heap -Complete Binary tree ===> Max_heap(parent's node value>children' value) and Min_heap(parent's node value<children's value)\n",
        "#we will take a heap of size 2.\n",
        "# Algorithm:\n",
        "#           1. Create a min heap and add all elements from the array into the heap 1 by 1.\n",
        "\n",
        "#           2. Heap will store \"K\" largest element at any point and at the end \"Head \" of this heap will be the answer"
      ],
      "metadata": {
        "id": "OFxuqeoLkrkY"
      },
      "execution_count": 7,
      "outputs": []
    },
    {
      "cell_type": "code",
      "source": [
        "import heapq\n",
        "def findKthLargest(nums,k):\n",
        "  return heapq.nlargest(k,nums)[-1]"
      ],
      "metadata": {
        "id": "7m6HVNupmmXR"
      },
      "execution_count": 12,
      "outputs": []
    },
    {
      "cell_type": "code",
      "source": [
        "findKthLargest(nums,k)"
      ],
      "metadata": {
        "colab": {
          "base_uri": "https://localhost:8080/"
        },
        "id": "NSBMZJSRoHeo",
        "outputId": "b53a98bc-35f6-4f89-abc1-31ea03f80bf8"
      },
      "execution_count": 13,
      "outputs": [
        {
          "output_type": "execute_result",
          "data": {
            "text/plain": [
              "5"
            ]
          },
          "metadata": {},
          "execution_count": 13
        }
      ]
    },
    {
      "cell_type": "markdown",
      "source": [
        "#Question-6\n",
        "Given an integer array nums and an integer k, return the kth smallest\n",
        "element in the array. Note that it is the kth smallest element in the sorted\n",
        "order, not the kth distinct element.\n",
        "Example 1:\n",
        "Input: nums = [3,2,1,5,6,4], k = 2\n",
        "Output: 2"
      ],
      "metadata": {
        "id": "pn9XrIfgpUJy"
      }
    },
    {
      "cell_type": "code",
      "source": [
        "import heapq\n",
        " \n",
        "def find_kth_smallest(nums, k):\n",
        "    return heapq.nsmallest(k, nums)[-1]"
      ],
      "metadata": {
        "id": "qLaM2sLPoJ4e"
      },
      "execution_count": 14,
      "outputs": []
    },
    {
      "cell_type": "code",
      "source": [
        "find_kth_smallest(nums, k)"
      ],
      "metadata": {
        "colab": {
          "base_uri": "https://localhost:8080/"
        },
        "id": "fxsVp6dPpcTn",
        "outputId": "a3c345ff-34fe-4ea5-904e-5c6d5b744e67"
      },
      "execution_count": 15,
      "outputs": [
        {
          "output_type": "execute_result",
          "data": {
            "text/plain": [
              "2"
            ]
          },
          "metadata": {},
          "execution_count": 15
        }
      ]
    },
    {
      "cell_type": "code",
      "source": [
        "def find_kth_smallest(nums, k):\n",
        "    return heapq.nsmallest(k, nums)[-2]"
      ],
      "metadata": {
        "id": "6g51A5Pgpe0D"
      },
      "execution_count": 16,
      "outputs": []
    },
    {
      "cell_type": "code",
      "source": [
        "find_kth_smallest(nums, k)"
      ],
      "metadata": {
        "colab": {
          "base_uri": "https://localhost:8080/"
        },
        "id": "j8X7DmnsqLbT",
        "outputId": "b848a768-ad79-4b8e-c59c-29a99d9e54eb"
      },
      "execution_count": 17,
      "outputs": [
        {
          "output_type": "execute_result",
          "data": {
            "text/plain": [
              "1"
            ]
          },
          "metadata": {},
          "execution_count": 17
        }
      ]
    },
    {
      "cell_type": "code",
      "source": [
        "def find_kth_smallest(nums, k):\n",
        "    return heapq.nsmallest(k, nums)[2]\n",
        "find_kth_smallest(nums, k)"
      ],
      "metadata": {
        "colab": {
          "base_uri": "https://localhost:8080/",
          "height": 287
        },
        "id": "iRIg9tDuqNIh",
        "outputId": "23d3e4fd-b35c-4c5a-e2b6-e221d66da6bb"
      },
      "execution_count": 21,
      "outputs": [
        {
          "output_type": "error",
          "ename": "IndexError",
          "evalue": "ignored",
          "traceback": [
            "\u001b[0;31m---------------------------------------------------------------------------\u001b[0m",
            "\u001b[0;31mIndexError\u001b[0m                                Traceback (most recent call last)",
            "\u001b[0;32m<ipython-input-21-45eae42a001b>\u001b[0m in \u001b[0;36m<cell line: 3>\u001b[0;34m()\u001b[0m\n\u001b[1;32m      1\u001b[0m \u001b[0;32mdef\u001b[0m \u001b[0mfind_kth_smallest\u001b[0m\u001b[0;34m(\u001b[0m\u001b[0mnums\u001b[0m\u001b[0;34m,\u001b[0m \u001b[0mk\u001b[0m\u001b[0;34m)\u001b[0m\u001b[0;34m:\u001b[0m\u001b[0;34m\u001b[0m\u001b[0;34m\u001b[0m\u001b[0m\n\u001b[1;32m      2\u001b[0m     \u001b[0;32mreturn\u001b[0m \u001b[0mheapq\u001b[0m\u001b[0;34m.\u001b[0m\u001b[0mnsmallest\u001b[0m\u001b[0;34m(\u001b[0m\u001b[0mk\u001b[0m\u001b[0;34m,\u001b[0m \u001b[0mnums\u001b[0m\u001b[0;34m)\u001b[0m\u001b[0;34m[\u001b[0m\u001b[0;36m2\u001b[0m\u001b[0;34m]\u001b[0m\u001b[0;34m\u001b[0m\u001b[0;34m\u001b[0m\u001b[0m\n\u001b[0;32m----> 3\u001b[0;31m \u001b[0mfind_kth_smallest\u001b[0m\u001b[0;34m(\u001b[0m\u001b[0mnums\u001b[0m\u001b[0;34m,\u001b[0m \u001b[0mk\u001b[0m\u001b[0;34m)\u001b[0m\u001b[0;34m\u001b[0m\u001b[0;34m\u001b[0m\u001b[0m\n\u001b[0m",
            "\u001b[0;32m<ipython-input-21-45eae42a001b>\u001b[0m in \u001b[0;36mfind_kth_smallest\u001b[0;34m(nums, k)\u001b[0m\n\u001b[1;32m      1\u001b[0m \u001b[0;32mdef\u001b[0m \u001b[0mfind_kth_smallest\u001b[0m\u001b[0;34m(\u001b[0m\u001b[0mnums\u001b[0m\u001b[0;34m,\u001b[0m \u001b[0mk\u001b[0m\u001b[0;34m)\u001b[0m\u001b[0;34m:\u001b[0m\u001b[0;34m\u001b[0m\u001b[0;34m\u001b[0m\u001b[0m\n\u001b[0;32m----> 2\u001b[0;31m     \u001b[0;32mreturn\u001b[0m \u001b[0mheapq\u001b[0m\u001b[0;34m.\u001b[0m\u001b[0mnsmallest\u001b[0m\u001b[0;34m(\u001b[0m\u001b[0mk\u001b[0m\u001b[0;34m,\u001b[0m \u001b[0mnums\u001b[0m\u001b[0;34m)\u001b[0m\u001b[0;34m[\u001b[0m\u001b[0;36m2\u001b[0m\u001b[0;34m]\u001b[0m\u001b[0;34m\u001b[0m\u001b[0;34m\u001b[0m\u001b[0m\n\u001b[0m\u001b[1;32m      3\u001b[0m \u001b[0mfind_kth_smallest\u001b[0m\u001b[0;34m(\u001b[0m\u001b[0mnums\u001b[0m\u001b[0;34m,\u001b[0m \u001b[0mk\u001b[0m\u001b[0;34m)\u001b[0m\u001b[0;34m\u001b[0m\u001b[0;34m\u001b[0m\u001b[0m\n",
            "\u001b[0;31mIndexError\u001b[0m: list index out of range"
          ]
        }
      ]
    },
    {
      "cell_type": "code",
      "source": [],
      "metadata": {
        "id": "z9NXX7ecqYse"
      },
      "execution_count": null,
      "outputs": []
    }
  ]
}